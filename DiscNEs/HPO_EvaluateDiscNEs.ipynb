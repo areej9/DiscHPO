{
  "cells": [
    {
      "cell_type": "code",
      "execution_count": null,
      "metadata": {
        "colab": {
          "base_uri": "https://localhost:8080/",
          "height": 242
        },
        "id": "rbMIlFqLdL6a",
        "outputId": "bac07980-a93e-4bb8-97fd-d6f59bb06b63"
      },
      "outputs": [
        {
          "ename": "FileNotFoundError",
          "evalue": "ignored",
          "output_type": "error",
          "traceback": [
            "\u001b[0;31m---------------------------------------------------------------------------\u001b[0m",
            "\u001b[0;31mFileNotFoundError\u001b[0m                         Traceback (most recent call last)",
            "\u001b[0;32m<ipython-input-1-d32de082a6fd>\u001b[0m in \u001b[0;36m<cell line: 8>\u001b[0;34m()\u001b[0m\n\u001b[1;32m      6\u001b[0m \u001b[0;34m\u001b[0m\u001b[0m\n\u001b[1;32m      7\u001b[0m \u001b[0;31m# Open the input file for reading and the output file for writing\u001b[0m\u001b[0;34m\u001b[0m\u001b[0;34m\u001b[0m\u001b[0m\n\u001b[0;32m----> 8\u001b[0;31m \u001b[0;32mwith\u001b[0m \u001b[0mopen\u001b[0m\u001b[0;34m(\u001b[0m\u001b[0minput_file\u001b[0m\u001b[0;34m,\u001b[0m \u001b[0;34m\"r\"\u001b[0m\u001b[0;34m)\u001b[0m \u001b[0;32mas\u001b[0m \u001b[0minfile\u001b[0m\u001b[0;34m,\u001b[0m \u001b[0mopen\u001b[0m\u001b[0;34m(\u001b[0m\u001b[0moutput_file\u001b[0m\u001b[0;34m,\u001b[0m \u001b[0;34m\"w\"\u001b[0m\u001b[0;34m)\u001b[0m \u001b[0;32mas\u001b[0m \u001b[0moutfile\u001b[0m\u001b[0;34m:\u001b[0m\u001b[0;34m\u001b[0m\u001b[0;34m\u001b[0m\u001b[0m\n\u001b[0m\u001b[1;32m      9\u001b[0m     \u001b[0;31m# Write the header row to the output file\u001b[0m\u001b[0;34m\u001b[0m\u001b[0;34m\u001b[0m\u001b[0m\n\u001b[1;32m     10\u001b[0m     \u001b[0mheader\u001b[0m \u001b[0;34m=\u001b[0m \u001b[0mnext\u001b[0m\u001b[0;34m(\u001b[0m\u001b[0minfile\u001b[0m\u001b[0;34m)\u001b[0m\u001b[0;34m\u001b[0m\u001b[0;34m\u001b[0m\u001b[0m\n",
            "\u001b[0;31mFileNotFoundError\u001b[0m: [Errno 2] No such file or directory: '/content/alignmentPheNorm.tsv'"
          ]
        }
      ],
      "source": [
        "#### Start Here #####\n",
        "#Without using pandas\n",
        "# Define the input and output file paths\n",
        "input_file = \"/content/alignmentPheNorm.tsv\"\n",
        "output_file = \"DiscNEs.tsv\"\n",
        "\n",
        "# Open the input file for reading and the output file for writing\n",
        "with open(input_file, \"r\") as infile, open(output_file, \"w\") as outfile:\n",
        "    # Write the header row to the output file\n",
        "    header = next(infile)\n",
        "    outfile.write(header)\n",
        "\n",
        "    # Loop through the remaining lines in the input file\n",
        "    for line in infile:\n",
        "        # Split the line by tab delimiter\n",
        "        parts = line.strip().split(\"\\t\")\n",
        "\n",
        "        # Check if the \"Truth Spans\" or \"Predicted Spans\" column contains a comma\n",
        "        if \",\" in parts[4] or \",\" in parts[8]:\n",
        "            # Write the line to the output file\n",
        "            outfile.write(line)\n",
        "\n",
        "# Done! The filtered data has been written to the output file."
      ]
    },
    {
      "cell_type": "code",
      "execution_count": null,
      "metadata": {
        "id": "hRs1B4h86i8i"
      },
      "outputs": [],
      "source": [
        "# Then manually check and correct disc extraction (modify extractedspan)\n",
        "Hypoplastic - upper helices\n",
        "NOSE - broad tip\n",
        "Depressed nasal ridge\n",
        "Nevus flammeus of the forehead # OM\n",
        "Crumpled ear #OM\n",
        "Finger clinodactyly #OM\n",
        "Long face #OM\n",
        "Low-set ears #OM\n",
        "Dermatochalasis\n",
        "camptodactyly of right 2nd and 4th digits - fingertips #OM"
      ]
    },
    {
      "cell_type": "code",
      "execution_count": null,
      "metadata": {
        "colab": {
          "base_uri": "https://localhost:8080/"
        },
        "id": "cZJtt1jttdsL",
        "outputId": "e62e04ce-30ad-4832-afd8-45d32dd4d440"
      },
      "outputs": [
        {
          "name": "stdout",
          "output_type": "stream",
          "text": [
            "Metrics for 'Exact Extraction & Normalization':\n",
            "Precision: 0.5454545454545454\n",
            "Recall: 0.5753424657534246\n",
            "F1 Score: 0.5599999999999999\n",
            "\n",
            "Metrics for 'Overlapping Extraction & Normalization':\n",
            "Precision: 0.8725490196078431\n",
            "Recall: 0.9368421052631579\n",
            "F1 Score: 0.9035532994923857\n"
          ]
        }
      ],
      "source": [
        "import pandas as pd\n",
        "\n",
        "data = pd.read_csv(\"/content/CorrectedDiscNEsKEYF+NORMF.tsv\", delimiter=\"\\t\")\n",
        "\n",
        "exact_TP_total, exact_TN_total, exact_FP_total, exact_FN_total = 0, 0, 0, 0\n",
        "overlapping_TP_total, overlapping_TN_total, overlapping_FP_total, overlapping_FN_total = 0, 0, 0, 0\n",
        "\n",
        "for index, row in data.iterrows():\n",
        "    exact_values = row[\"Exact Extraction & Normalization\"]\n",
        "    if exact_values == \"TP\":\n",
        "      exact_TP_total=exact_TP_total+1\n",
        "    if exact_values == \"TN\":\n",
        "      exact_TN_total=exact_TN_total+1\n",
        "    if exact_values == \"FP\":\n",
        "      exact_FP_total=exact_FP_total+1\n",
        "    if exact_values == \"FN\":\n",
        "      exact_FN_total=exact_FN_total+1\n",
        "\n",
        "    overlapping_values = row[\"Overlapping Extraction & Normalization\"]\n",
        "    if overlapping_values == \"TP\":\n",
        "      overlapping_TP_total=overlapping_TP_total+1\n",
        "    if overlapping_values == \"TN\":\n",
        "      overlapping_TN_total=overlapping_TN_total+1\n",
        "    if overlapping_values == \"FP\":\n",
        "     overlapping_FP_total=overlapping_FP_total+1\n",
        "    if overlapping_values == \"FN\":\n",
        "      overlapping_FN_total=overlapping_FN_total+1\n",
        "\n",
        "def calculate_metrics(TP, TN, FP, FN):\n",
        "    precision = TP / (TP + FP)\n",
        "    recall = TP / (TP + FN)\n",
        "    f1_score = 2 * (precision * recall) / (precision + recall)\n",
        "    return precision, recall, f1_score\n",
        "\n",
        "exact_precision, exact_recall, exact_f1_score = calculate_metrics(exact_TP_total, exact_TN_total, exact_FP_total, exact_FN_total)\n",
        "\n",
        "overlapping_precision, overlapping_recall, overlapping_f1_score = calculate_metrics(overlapping_TP_total, overlapping_TN_total, overlapping_FP_total, overlapping_FN_total)\n",
        "\n",
        "print(\"Metrics for 'Exact Extraction & Normalization':\")\n",
        "print(\"Precision:\", exact_precision)\n",
        "print(\"Recall:\", exact_recall)\n",
        "print(\"F1 Score:\", exact_f1_score)\n",
        "\n",
        "print(\"\\nMetrics for 'Overlapping Extraction & Normalization':\")\n",
        "print(\"Precision:\", overlapping_precision)\n",
        "print(\"Recall:\", overlapping_recall)\n",
        "print(\"F1 Score:\", overlapping_f1_score)\n"
      ]
    }
  ],
  "metadata": {
    "colab": {
      "provenance": []
    },
    "kernelspec": {
      "display_name": "Python 3",
      "name": "python3"
    },
    "language_info": {
      "name": "python"
    }
  },
  "nbformat": 4,
  "nbformat_minor": 0
}
