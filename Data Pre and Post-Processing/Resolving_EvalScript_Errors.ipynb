{
  "nbformat": 4,
  "nbformat_minor": 0,
  "metadata": {
    "colab": {
      "provenance": []
    },
    "kernelspec": {
      "name": "python3",
      "display_name": "Python 3"
    },
    "language_info": {
      "name": "python"
    }
  },
  "cells": [
    {
      "cell_type": "code",
      "execution_count": null,
      "metadata": {
        "colab": {
          "base_uri": "https://localhost:8080/"
        },
        "id": "MdzfoHBUtYG6",
        "outputId": "a15603d1-a2c3-45cb-f952-fd817ce29c44"
      },
      "outputs": [
        {
          "output_type": "stream",
          "name": "stdout",
          "text": [
            "Mounted at /content/drive\n"
          ]
        }
      ],
      "source": [
        "from google.colab import drive\n",
        "drive.mount('/content/drive')"
      ]
    },
    {
      "cell_type": "code",
      "source": [
        "import pandas as pd\n",
        "import re"
      ],
      "metadata": {
        "id": "kacWuw8Oo_53"
      },
      "execution_count": null,
      "outputs": []
    },
    {
      "cell_type": "code",
      "source": [
        "# this finds the missing observation IDs\n",
        "\n",
        "def read_column(filename, column_number):\n",
        "    column_values = set()\n",
        "    with open(filename, 'r') as file:\n",
        "        for line in file:\n",
        "            columns = line.strip().split('\\t')\n",
        "            if len(columns) > column_number:\n",
        "                column_values.add(columns[column_number])\n",
        "    return column_values\n",
        "\n",
        "file1_column_values = read_column('/content/drive/MyDrive/biocreative/dataset/BioCreativeVIII3_ValSet.tsv', 0)\n",
        "file2_column_values = read_column('/content/EvalScript.tsv', 0)\n",
        "\n",
        "unique_to_file1 = file1_column_values - file2_column_values\n",
        "unique_to_file2 = file2_column_values - file1_column_values\n",
        "\n",
        "print(\"Values unique to file1.tsv:\")\n",
        "print(unique_to_file1)\n",
        "\n",
        "print(\"Values unique to file2.tsv:\")\n",
        "print(unique_to_file2)\n"
      ],
      "metadata": {
        "colab": {
          "base_uri": "https://localhost:8080/"
        },
        "id": "8PRVYGtZhIUc",
        "outputId": "f19092b1-6acc-4e66-d06d-3c6414cc9751"
      },
      "execution_count": null,
      "outputs": [
        {
          "output_type": "stream",
          "name": "stdout",
          "text": [
            "Values unique to file1.tsv:\n",
            "{'3f6ed961cb1b0f67a2b8424efc72357c', 'b2ecb489ef68169d20dc7228dffbf84c', '0804df2112a91ec2965d2af4af9fe510', 'a1b6f91e995dd25b02031835344dcd7b', '4344d2a1b350049197dd63fe9eb1365d', 'b3b7afef7c5c4acd3f9446f7762c7495', '2174230cc71fea22297197c68fa38219', '1739d32b2be14a375e72d53c9f9363d0', '2832d5a78d78a197cf59a2840f1945ff', '9c81574d44560b69819296d9e8e53ef7', '9a0581d5444f4b74cdbb1d3d03d57c96', '9f845da5152d4dd596aef630d46b1dc9', 'e2ab8366b8f4b0dbd4993680a92ff08b', '4b672cb470e3bf8f8cab04e171c227af', 'fa64ab0098a59dcc71fc193e486229b3', 'e51936313a01f18807a3975891739ad5', '3c1dbd6ecd2abb9918cdad584e2f2681', 'e83a7b50951e2ee142f38fcc3202d3c6', 'fbac08839db4d26ff6e344a82f495c5d', '94cd45491e3ecc455e11a490e79b7ef0', '49ca2e28bd866592d64b43edc75d026d', '2b68f8b8c75e6a21b10d35d987fc02f7', '340bbfc6ab6ea7f1a707c5fceca3428a', '1e3fc44e23167bc61d425f6d1f966061', 'dd275ae55c2b089e0c19625db69ca37b', '298ac33a17ce972da35e7e56429b96f4'}\n",
            "Values unique to file2.tsv:\n",
            "set()\n"
          ]
        }
      ]
    },
    {
      "cell_type": "code",
      "source": [
        "# this APPENDS the missing observation IDs to predictions\n",
        "def read_column(filename, column_number):\n",
        "    column_values = {}\n",
        "    with open(filename, 'r') as file:\n",
        "        for line in file:\n",
        "            columns = line.strip().split('\\t')\n",
        "            if len(columns) > column_number:\n",
        "                column_values[columns[column_number]] = line\n",
        "    return column_values\n",
        "\n",
        "def modify_and_append(file_to_modify, values_to_append, output_filename):\n",
        "    with open(file_to_modify, 'r') as file:\n",
        "        lines = file.readlines()\n",
        "\n",
        "    modified_lines = []\n",
        "\n",
        "    for line in lines:\n",
        "        columns = line.strip().split('\\t')\n",
        "        if columns[0] in values_to_append:\n",
        "            columns[2] = \"NA\"\n",
        "            columns[3] = \"NA\"\n",
        "            modified_lines.append('\\t'.join(columns[:4]))\n",
        "\n",
        "    with open(output_filename, 'a') as output_file:\n",
        "        output_file.write('\\n'.join(modified_lines) + '\\n')\n",
        "\n",
        "file1_column_values = read_column('/content/drive/MyDrive/biocreative/dataset/BioCreativeVIII3_ValSet.tsv', 0)\n",
        "file2_column_values = read_column('/content/EvalScript.tsv', 0)\n",
        "\n",
        "unique_to_file1 = file1_column_values.keys() - file2_column_values.keys()\n",
        "\n",
        "for value in unique_to_file1:\n",
        "    file1_row = file1_column_values[value]\n",
        "    with open('file2.tsv', 'a') as file2:\n",
        "        file2.write(file1_row)\n",
        "\n",
        "modify_and_append('/content/drive/MyDrive/biocreative/dataset/BioCreativeVIII3_ValSet.tsv', unique_to_file1, '/content/EvalScript.tsv')\n"
      ],
      "metadata": {
        "id": "XWez8kEai0dR"
      },
      "execution_count": null,
      "outputs": []
    }
  ]
}