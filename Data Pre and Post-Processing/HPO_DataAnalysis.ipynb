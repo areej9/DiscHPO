{
  "cells": [
    {
      "cell_type": "code",
      "execution_count": null,
      "metadata": {
        "colab": {
          "base_uri": "https://localhost:8080/"
        },
        "id": "L7FmoqmQU4kx",
        "outputId": "71d35f28-29c8-4227-f472-05d484a38c21"
      },
      "outputs": [
        {
          "name": "stdout",
          "output_type": "stream",
          "text": [
            "Number of cells with a comma in the 'span' column: 96\n"
          ]
        }
      ],
      "source": [
        "# counts discontinuous spans\n",
        "import csv\n",
        "\n",
        "def count_commas_in_span(filename):\n",
        "    count = 0\n",
        "\n",
        "    with open(filename, 'r', newline='') as file:\n",
        "        reader = csv.DictReader(file, delimiter='\\t')\n",
        "        for row in reader:\n",
        "            span = row['Spans']\n",
        "            if ',' in span:\n",
        "                count += 1\n",
        "\n",
        "    return count\n",
        "\n",
        "# here I put the file\n",
        "filename = '/content/BioCreativeVIII3_ValSet.tsv'\n",
        "comma_count = count_commas_in_span(filename)\n",
        "print(f\"Number of cells with a comma in the 'span' column: {comma_count}\")"
      ]
    },
    {
      "cell_type": "code",
      "execution_count": null,
      "metadata": {
        "colab": {
          "base_uri": "https://localhost:8080/"
        },
        "id": "Uy9NnO-NX8W0",
        "outputId": "1f1f3437-b88f-4563-9dcf-e377b0d43fa5"
      },
      "outputs": [
        {
          "name": "stdout",
          "output_type": "stream",
          "text": [
            "Number of cells with a dash in the 'span' column: 685\n"
          ]
        }
      ],
      "source": [
        "# counts total spans\n",
        "import csv\n",
        "\n",
        "def count_dash_in_span(filename):\n",
        "    count = 0\n",
        "\n",
        "    with open(filename, 'r', newline='') as file:\n",
        "        reader = csv.DictReader(file, delimiter='\\t')\n",
        "        for row in reader:\n",
        "            span = row['Spans']\n",
        "            if '-' in span:\n",
        "                count += 1\n",
        "\n",
        "    return count\n",
        "\n",
        "\n",
        "filename = '/content/BioCreativeVIII3_ValSet.tsv'\n",
        "dash_count = count_dash_in_span(filename)\n",
        "print(f\"Number of cells with a dash in the 'span' column: {dash_count}\")"
      ]
    },
    {
      "cell_type": "code",
      "execution_count": null,
      "metadata": {
        "colab": {
          "base_uri": "https://localhost:8080/"
        },
        "id": "ULKxqJ2uYil6",
        "outputId": "f5b23813-04db-4123-d7cc-dcc0fade47a0"
      },
      "outputs": [
        {
          "name": "stdout",
          "output_type": "stream",
          "text": [
            "Number of cells in the 'span' column that do not contain 'NA': 685\n"
          ]
        }
      ],
      "source": [
        "# same, counts total spans, just to double check.\n",
        "def count_non_na_cells(filename):\n",
        "    count = 0\n",
        "\n",
        "    with open(filename, 'r', newline='') as file:\n",
        "        reader = csv.DictReader(file, delimiter='\\t')\n",
        "        for row in reader:\n",
        "            span = row['Spans']\n",
        "            if span != 'NA':\n",
        "                count += 1\n",
        "\n",
        "    return count\n",
        "\n",
        "filename = '/content/BioCreativeVIII3_ValSet.tsv'\n",
        "non_na_count = count_non_na_cells(filename)\n",
        "print(f\"Number of cells in the 'span' column that do not contain 'NA': {non_na_count}\")"
      ]
    },
    {
      "cell_type": "code",
      "execution_count": null,
      "metadata": {
        "colab": {
          "base_uri": "https://localhost:8080/"
        },
        "id": "C9Y-4s-wad0p",
        "outputId": "8a882d33-25fe-4eb8-9590-4265e1feb274"
      },
      "outputs": [
        {
          "name": "stdout",
          "output_type": "stream",
          "text": [
            "Number of cells in the 'Polariy' column that contain 'X': 78\n"
          ]
        }
      ],
      "source": [
        "# counts Normal Finding\n",
        "def count_x_cells(filename):\n",
        "    count = 0\n",
        "\n",
        "    with open(filename, 'r', newline='') as file:\n",
        "        reader = csv.DictReader(file, delimiter='\\t')\n",
        "        for row in reader:\n",
        "            span = row['Polarity']\n",
        "            if span == 'X':\n",
        "                count += 1\n",
        "\n",
        "    return count\n",
        "\n",
        "filename = '/content/BioCreativeVIII3_ValSet.tsv'\n",
        "x_count = count_x_cells(filename)\n",
        "print(f\"Number of cells in the 'Polariy' column that contain 'X': {x_count}\")"
      ]
    },
    {
      "cell_type": "code",
      "execution_count": null,
      "metadata": {
        "colab": {
          "base_uri": "https://localhost:8080/"
        },
        "id": "tKj7vAhrbl-m",
        "outputId": "8d0d682c-7ec9-4818-8286-ea8743d488b1"
      },
      "outputs": [
        {
          "name": "stdout",
          "output_type": "stream",
          "text": [
            "Number of cells in the 'Polariy' column that contain 'NA': 607\n"
          ]
        }
      ],
      "source": [
        "# counts Key Findings\n",
        "def count_na_cells(filename):\n",
        "    count = 0\n",
        "\n",
        "    with open(filename, 'r', newline='') as file:\n",
        "        reader = csv.DictReader(file, delimiter='\\t')\n",
        "        for row in reader:\n",
        "            pol = row['Polarity']\n",
        "            span = row['Spans']\n",
        "            if pol == 'NA' and span != 'NA':\n",
        "                count += 1\n",
        "\n",
        "    return count\n",
        "\n",
        "filename = '/content/BioCreativeVIII3_ValSet.tsv'\n",
        "na_count = count_na_cells(filename)\n",
        "print(f\"Number of cells in the 'Polariy' column that contain 'NA': {na_count}\")"
      ]
    },
    {
      "cell_type": "code",
      "execution_count": null,
      "metadata": {
        "colab": {
          "base_uri": "https://localhost:8080/"
        },
        "id": "Tip3WrTdeocw",
        "outputId": "24733eda-a54a-44e6-fe2e-c0efc25a9d0c"
      },
      "outputs": [
        {
          "name": "stdout",
          "output_type": "stream",
          "text": [
            "Number of cells in the 'Spans' column that contain two commas: 91\n"
          ]
        }
      ],
      "source": [
        "# Count discontinuous span with three disc tokens\n",
        "def count_cells_with_two_commas(filename):\n",
        "    count = 0\n",
        "\n",
        "    with open(filename, 'r', newline='') as file:\n",
        "        reader = csv.DictReader(file, delimiter='\\t')\n",
        "        for row in reader:\n",
        "            spans = row['Spans']\n",
        "            if spans.count(',') == 2:\n",
        "                count += 1\n",
        "\n",
        "    return count\n",
        "\n",
        "\n",
        "filename = '/content/BioCreativeVIII3_ValSet.tsv'\n",
        "two_commas_count = count_cells_with_two_commas(filename)\n",
        "print(f\"Number of cells in the 'Spans' column that contain two commas: {two_commas_count}\")"
      ]
    },
    {
      "cell_type": "code",
      "execution_count": null,
      "metadata": {
        "id": "KmtmTUkjWQp0"
      },
      "outputs": [],
      "source": [
        "# training set: 1716\n",
        "# No of entities: 2562\n",
        "# No. Discont entities 369, Percentage of discontinuouty 14.4%\n",
        "# Discont: (2-tokens): 358 (3-tokens): 11 (4-tokens): 0\n",
        "# No. of Normal Findings 329\n",
        "# No. of Key Findings 2233\n",
        "\n",
        "# Validation set: 454\n",
        "# No of entities: 685\n",
        "# No. Discont entities 96, Percentage of discontinuouty 14%\n",
        "# Discont: (2-tokens): 91 (3-tokens): 5 (4-tokens): 0\n",
        "# No. of Normal Findings 78\n",
        "# No. of Key Findings 607\n",
        "\n",
        "# if the cell contains an X, the finding is normal,"
      ]
    },
    {
      "cell_type": "code",
      "execution_count": null,
      "metadata": {
        "colab": {
          "base_uri": "https://localhost:8080/"
        },
        "id": "Ag8d31riUtL7",
        "outputId": "1f025bc0-c868-4e07-aef4-b2686248eb36"
      },
      "outputs": [
        {
          "name": "stdout",
          "output_type": "stream",
          "text": [
            "Maximum sentence length: 88\n"
          ]
        }
      ],
      "source": [
        "# check the maximun length of the sentences in both training and eval set\n",
        "import pandas as pd\n",
        "\n",
        "# Load the TSV file into a DataFrame\n",
        "file_path = \"BioCreativeVIII3_TrainSet.tsv\"\n",
        "df = pd.read_csv(file_path, sep='\\t')\n",
        "\n",
        "# Access the \"Text\" column and calculate the maximum sentence length\n",
        "max_sentence_length = 0\n",
        "\n",
        "for sentence in df['Text']:\n",
        "    words = sentence.split()\n",
        "    sentence_length = len(words)\n",
        "    if sentence_length > max_sentence_length:\n",
        "        max_sentence_length = sentence_length\n",
        "\n",
        "print(\"Maximum sentence length:\", max_sentence_length)\n"
      ]
    }
  ],
  "metadata": {
    "colab": {
      "provenance": []
    },
    "kernelspec": {
      "display_name": "Python 3",
      "name": "python3"
    },
    "language_info": {
      "name": "python"
    }
  },
  "nbformat": 4,
  "nbformat_minor": 0
}
