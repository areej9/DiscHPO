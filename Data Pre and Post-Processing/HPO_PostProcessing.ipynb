{
  "cells": [
    {
      "cell_type": "code",
      "execution_count": null,
      "metadata": {
        "colab": {
          "base_uri": "https://localhost:8080/"
        },
        "id": "a2kknc74Ceob",
        "outputId": "bb3a9ceb-e623-465d-fa69-912f7190352c"
      },
      "outputs": [
        {
          "name": "stdout",
          "output_type": "stream",
          "text": [
            "Mounted at /content/drive\n"
          ]
        }
      ],
      "source": [
        "from google.colab import drive\n",
        "drive.mount('/content/drive')"
      ]
    },
    {
      "cell_type": "code",
      "execution_count": null,
      "metadata": {
        "colab": {
          "base_uri": "https://localhost:8080/"
        },
        "id": "rG38-OVTCtia",
        "outputId": "bbdb1b65-d531-4c83-97c8-b5b0cfe363a9"
      },
      "outputs": [
        {
          "name": "stdout",
          "output_type": "stream",
          "text": [
            "Processing complete. Results saved in '1.tsv'\n"
          ]
        }
      ],
      "source": [
        "#### Postprocessing Code starts here ####\n",
        "## الكود مضبوط مرة بس فيه مشكلة في اذا صارت الكلمة مكررة مرتين في النص وموجودة في السبان ياخذ اقرب وحدة ##\n",
        "## تم التاكد من دقة المخرجات ##\n",
        "## اكتشفت انه في الكونت يطرح ١ من النهاية ،، شلتها\n",
        "##        end = start + len(' '.join(tokens)) - 1\n",
        "import pandas as pd\n",
        "import re\n",
        "\n",
        "def find_span_offsets(text, span):\n",
        "    tokens = re.findall(r'\\b[\\w,-;>]+\\b', span)\n",
        "    span_offsets = []\n",
        "    text = text.lower()\n",
        "    if span == \"NA\":\n",
        "      return \"NA\"\n",
        "    if ' '.join(tokens) in text:\n",
        "        # continuous span\n",
        "        start = text.index(' '.join(tokens))\n",
        "        end = start + len(' '.join(tokens))\n",
        "        span_offsets.append(f\"{start}-{end}\")\n",
        "    else:\n",
        "        # disjoint tokens\n",
        "        i = 0\n",
        "        while i < len(tokens):\n",
        "            if tokens[i] in text:\n",
        "                start = text.find(tokens[i])\n",
        "                end = start + len(tokens[i])\n",
        "                # check if the next token is consecutive with the current one\n",
        "                #old condition: (end + 1 == text.find(tokens[i + 1]) or end + 2 == text.find(tokens[i + 1]))\n",
        "                while i + 1 < len(tokens) and tokens[i]+ \" \" +tokens[i+1] in text:\n",
        "                    i += 1\n",
        "                    end = end + len(tokens[i]) + 1\n",
        "                span_offsets.append(f\"{start}-{end}\")\n",
        "            i += 1\n",
        "\n",
        "    return ','.join(span_offsets)\n",
        "\n",
        "\n",
        "def process_spans(row):\n",
        "    spans = re.split(r'(?=(?:normf:|keyf:))', row['Output'])\n",
        "    spans = [span.strip() for span in spans if span.strip()]\n",
        "\n",
        "    labels = []\n",
        "    polarities = []\n",
        "    span_content = []\n",
        "    span_offsets = []\n",
        "\n",
        "    for span in spans:\n",
        "        if 'normf:' in span:\n",
        "            labels.append('normf:')\n",
        "            polarities.append('X')\n",
        "        elif 'keyf:' in span:\n",
        "            labels.append('keyf:')\n",
        "            polarities.append('NA')\n",
        "        else:\n",
        "            labels.append('NA')\n",
        "            polarities.append('NA')\n",
        "\n",
        "        # Remove ';' from the end of the span if it exists\n",
        "        span = span.replace('normf:', '').replace('keyf:', '').strip()\n",
        "        if span.endswith(';'):\n",
        "            span = span[:-1]\n",
        "\n",
        "        # Check if the span is 'na' (case-insensitive) and replace it with 'NA'\n",
        "        if span.lower() == 'na':\n",
        "            span = 'NA'\n",
        "\n",
        "        # Remove unwanted spaces around dash \"-\", colon \":\", and comma \",\"\n",
        "        span = span.replace(' - ', '-').replace(' :', ':').replace(' ,', ',')\n",
        "\n",
        "        span_content.append(span)\n",
        "        span_offsets.append(find_span_offsets(row['Text'], span))\n",
        "\n",
        "    return pd.DataFrame({'ObservationID': [row['ObservationID']] * len(span_content),\n",
        "                         'Text': [row['Text']] * len(span_content),\n",
        "                         'Polarity': polarities,\n",
        "                         'Spans': span_content,\n",
        "                         'Spans_Off': span_offsets})\n",
        "\n",
        "# put the file here to preprocess it\n",
        "input_file = '/content/drive/MyDrive/biocreative/FinalResults/FlanT5xl-LoRa-1024/Merged/TestResults.tsv'\n",
        "output_file = '1.tsv'\n",
        "df = pd.read_csv(input_file, delimiter='\\t')\n",
        "\n",
        "new_rows = df.apply(process_spans, axis=1)\n",
        "\n",
        "# concatenate the new rows and save \n",
        "result_df = pd.concat(new_rows.tolist(), ignore_index=True)\n",
        "result_df.to_csv(output_file, sep='\\t', index=False)\n",
        "\n",
        "print(\"Processing complete. Results saved in '1.tsv'\")\n"
      ]
    },
    {
      "cell_type": "code",
      "execution_count": null,
      "metadata": {
        "id": "v-35gl5Z6J3E"
      },
      "outputs": [],
      "source": [
        "# remove the duplicate rows\n",
        "\n",
        "file_path = '1.tsv'\n",
        "with open(file_path, 'r') as f:\n",
        "    rows = [line.strip().split('\\t') for line in f]\n",
        "\n",
        "seen_rows = set()\n",
        "duplicate_rows = []\n",
        "unique_rows = []\n",
        "\n",
        "for row in rows:\n",
        "    row_tuple = tuple(row)\n",
        "    if row_tuple in seen_rows:\n",
        "        duplicate_rows.append(row)\n",
        "    else:\n",
        "        seen_rows.add(row_tuple)\n",
        "        unique_rows.append(row)\n",
        "\n",
        "output_path = 'TBL_Model.tsv'\n",
        "with open(output_path, 'w') as f:\n",
        "    for row in unique_rows:\n",
        "        f.write('\\t'.join(row) + '\\n')\n"
      ]
    },
    {
      "cell_type": "code",
      "execution_count": null,
      "metadata": {
        "colab": {
          "base_uri": "https://localhost:8080/"
        },
        "id": "eUiP_xWJOOLP",
        "outputId": "56044227-c979-4f93-d989-2ed2f14a2083"
      },
      "outputs": [
        {
          "name": "stdout",
          "output_type": "stream",
          "text": [
            "[['1daf211987e73562c4399f93da11707c', 'NAILS HAIR SKIN: Left hand: one over knuckle of second finger (red patch 2.5 cm in diameter); smaller patches on lateral side of palm just below 2nd finger; another on thumb on thumb on palmar side; on wrist. Right hand: palmar side, one of 3rd and 4th finger; on other sider, one on 5th finger and one below thumb. Left upper arm: smaller and bigger ones. On right upper arm: larger brown patch. On left upper in though: 3 patches; one on upper right leg; one on right posterior thigh. Right thigh: hyperpigmented area.', 'NA', 'red patches', '63-66,102-109'], ['1daf211987e73562c4399f93da11707c', 'NAILS HAIR SKIN: Left hand: one over knuckle of second finger (red patch 2.5 cm in diameter); smaller patches on lateral side of palm just below 2nd finger; another on thumb on thumb on palmar side; on wrist. Right hand: palmar side, one of 3rd and 4th finger; on other sider, one on 5th finger and one below thumb. Left upper arm: smaller and bigger ones. On right upper arm: larger brown patch. On left upper in though: 3 patches; one on upper right leg; one on right posterior thigh. Right thigh: hyperpigmented area.', 'NA', 'red patches', '63-66,102-109'], ['4c374dd7de2ced96ef3b5bb0841ce0b5', 'NEUROLOGIC: she will move extremities spontaneously but not against gravity; she has sustained flexion contractures of her wrists, fingers, hips, and knees', 'NA', 'flexion contractures of her hips', '95-122,140-144'], ['4c374dd7de2ced96ef3b5bb0841ce0b5', 'NEUROLOGIC: she will move extremities spontaneously but not against gravity; she has sustained flexion contractures of her wrists, fingers, hips, and knees', 'NA', 'flexion contractures of her wrists', '95-129'], ['4c374dd7de2ced96ef3b5bb0841ce0b5', 'NEUROLOGIC: she will move extremities spontaneously but not against gravity; she has sustained flexion contractures of her wrists, fingers, hips, and knees', 'NA', 'flexion contractures of her fingers', '95-122,131-138'], ['4c374dd7de2ced96ef3b5bb0841ce0b5', 'NEUROLOGIC: she will move extremities spontaneously but not against gravity; she has sustained flexion contractures of her wrists, fingers, hips, and knees', 'NA', 'flexion contractures of her hips', '95-122,140-144'], ['58705c268a22113c2d5a45f2a72bfa42', 'HANDS FEET: Right hand has three digits suspected to be 3, 4, 5 and an appendage with no bony connection to the hand. Left hand has three digits suspected to be 3, 4, 5. Feet have four toes each. The feet may not be attached via bony connection to the femur', 'NA', 'hand has three digits suspected to be 3, 4, 5', '0-39,59-60,62-63'], ['58705c268a22113c2d5a45f2a72bfa42', 'HANDS FEET: Right hand has three digits suspected to be 3, 4, 5 and an appendage with no bony connection to the hand. Left hand has three digits suspected to be 3, 4, 5. Feet have four toes each. The feet may not be attached via bony connection to the femur', 'NA', 'hand has three digits suspected to be 3, 4, 5', '0-39,59-60,62-63'], ['61327dfe6d24a17e2348f0e6891f5076', 'NAILS HAIR SKIN: 3 smaller scars on right axillary line; small scar in midline of chest over sternum; scar on medial side of left breast, scars are normally healed, no striae, hyperconvex nails', 'NA', 'scars', '27-32'], ['61327dfe6d24a17e2348f0e6891f5076', 'NAILS HAIR SKIN: 3 smaller scars on right axillary line; small scar in midline of chest over sternum; scar on medial side of left breast, scars are normally healed, no striae, hyperconvex nails', 'NA', 'scars', '27-32'], ['6fb715f8033fa40c61d4b5d54f6a1383', 'EYES: Thick brows, normal lids and lashes. Telecanthus.', 'NA', 'telecanthus', '43-54'], ['7c8c0d825691ebfe74613f27a5e87610', 'NAILS HAIR SKIN: 1cm x 1cm macule on right temple. 2cm x 0.5cm irregular macule on left palm. 1cm x 0.25cm irregular macule on left forefinger & second finger on palmar surface', 'NA', 'macule', '27-33'], ['83d5da4cb85b6a917fdaa5557100ca71', 'NEUROLOGIC: There is mild dysmetria on finger to nose. Normal fine touch, pain, vibration and proprioception. Poor performance on tandem gait.', 'X', 'normal proprioception', '55-61,94-108'], ['83d5da4cb85b6a917fdaa5557100ca71', 'NEUROLOGIC: There is mild dysmetria on finger to nose. Normal fine touch, pain, vibration and proprioception. Poor performance on tandem gait.', 'X', 'normal fine touch', '55-72'], ['8413f1bda6556a01a132361d763e71d5', 'NAILS HAIR SKIN: 1 2mm dark brown birthmark on upper back, 1 cafe au lait spot on L leg, 1 cafe au lait spot on R leg', 'NA', 'cafe au lait spot', '61-78'], ['8bce520d0b237c904d464fe358be53af', 'HANDS FEET: Right hand has three digits suspected to be 3, 4, 5 and an appendage with no bony connection to the hand. Left hand has three digits suspected to be 3, 4, 5. Feet have four toes each.', 'NA', 'hand has three digits suspected to be 3, 4, 5', '0-39,59-60,62-63'], ['a8f7a569e78eb2a6cfcf71ccd3792baf', 'NAILS HAIR SKIN: Small 1cm CAL on left back. 1.5cm CAL on right elbow.', 'NA', 'cal', '27-30']]\n"
          ]
        }
      ],
      "source": [
        "print(duplicate_rows)"
      ]
    },
    {
      "cell_type": "code",
      "execution_count": null,
      "metadata": {
        "colab": {
          "base_uri": "https://localhost:8080/"
        },
        "id": "IRA7V_Jv9m6R",
        "outputId": "94ded217-02a3-4375-e5e2-4dca8a197700"
      },
      "outputs": [
        {
          "name": "stdout",
          "output_type": "stream",
          "text": [
            "17\n"
          ]
        }
      ],
      "source": [
        "print(len(duplicate_rows))"
      ]
    }
  ],
  "metadata": {
    "colab": {
      "provenance": []
    },
    "kernelspec": {
      "display_name": "Python 3",
      "name": "python3"
    },
    "language_info": {
      "name": "python"
    }
  },
  "nbformat": 4,
  "nbformat_minor": 0
}
