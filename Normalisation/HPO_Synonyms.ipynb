{
  "cells": [
    {
      "cell_type": "code",
      "execution_count": null,
      "metadata": {
        "id": "YF5C3iDFqOTB"
      },
      "outputs": [],
      "source": [
        "# Here, I want to create Augmented dataset for Bi_encoder embedding\n",
        "# The regular embedding set is HPO_Terms, I want to extend it with all synonyms from training set with their respective HPO id\n",
        "# For this, I will use two sets: Linking_with_ID.tsv, HP2Terms.tsv\n",
        "# Furthur boosting"
      ]
    },
    {
      "cell_type": "code",
      "execution_count": null,
      "metadata": {
        "id": "5-TXE_5Auh8m"
      },
      "outputs": [],
      "source": [
        "HPO_ID = []\n",
        "Preferred_Term = []\n",
        "with open(\"Validation_Syno.tsv\", \"r\") as file2:\n",
        "    lines = file2.readlines()\n",
        "    for line in lines[1:]:  # Skip the header\n",
        "        columns = line.strip().split(\"\\t\")\n",
        "        Preferred_Term.append(columns[4])  # 2nd column\n",
        "        hpo_term = columns[2]\n",
        "        HPO_ID.append(hpo_term)"
      ]
    },
    {
      "cell_type": "code",
      "execution_count": null,
      "metadata": {
        "colab": {
          "base_uri": "https://localhost:8080/"
        },
        "id": "PuL8Cv7dwnCL",
        "outputId": "7e1f1782-78c4-43a8-ef09-857beaf3b488"
      },
      "outputs": [
        {
          "name": "stdout",
          "output_type": "stream",
          "text": [
            "682\n",
            "682\n"
          ]
        }
      ],
      "source": [
        "print(len(HPO_ID))\n",
        "print(len(Preferred_Term))"
      ]
    },
    {
      "cell_type": "code",
      "execution_count": null,
      "metadata": {
        "id": "zpBg3Pw4wmXW"
      },
      "outputs": [],
      "source": [
        "#   HP2Terms dataset,we append HPO_ID and Preferred_Term lists\n",
        "with open(\"HPO_Synonyms.tsv\", \"r\") as file3:\n",
        "    hp2terms_lines = file3.readlines()\n",
        "\n",
        "for hpo, term in zip(HPO_ID, Preferred_Term):\n",
        "    hp2terms_lines.append(f\"{hpo}\\t{term}\\n\")\n",
        "\n",
        "with open(\"HPO_SynonymsAll.tsv\", \"w\") as result_file:\n",
        "    result_file.writelines(hp2terms_lines)"
      ]
    }
  ],
  "metadata": {
    "colab": {
      "provenance": []
    },
    "kernelspec": {
      "display_name": "Python 3",
      "name": "python3"
    },
    "language_info": {
      "name": "python"
    }
  },
  "nbformat": 4,
  "nbformat_minor": 0
}
